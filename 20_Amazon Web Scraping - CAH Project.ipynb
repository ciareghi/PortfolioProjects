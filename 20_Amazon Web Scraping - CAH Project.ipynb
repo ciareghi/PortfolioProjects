{
 "cells": [
  {
   "cell_type": "markdown",
   "id": "bb07c666",
   "metadata": {},
   "source": [
    "# Cards Against Humanity\n",
    "Data scraped from Amazon.it page of the card game at this [link](https://www.amazon.it/Cards-Against-Humanity-Uk-Edition/dp/B00DTXYCOU/ref=sr_1_12?crid=2H4CGT6HBGLGT&keywords=carte+contro+l%27umanit%C3%A0&qid=1700041857&sprefix=carte+contro%2Caps%2C89&sr=8-12)."
   ]
  },
  {
   "cell_type": "markdown",
   "id": "e7af0b57",
   "metadata": {},
   "source": [
    "---\n",
    "## Environment set-up"
   ]
  },
  {
   "cell_type": "code",
   "execution_count": 1,
   "id": "abb6daec",
   "metadata": {},
   "outputs": [],
   "source": [
    "# import libraries\n",
    "\n",
    "from bs4 import BeautifulSoup\n",
    "import requests\n",
    "import smtplib\n",
    "import time\n",
    "import datetime"
   ]
  },
  {
   "cell_type": "code",
   "execution_count": 43,
   "id": "7c505603",
   "metadata": {},
   "outputs": [
    {
     "name": "stdout",
     "output_type": "stream",
     "text": [
      "\n",
      "            Cards Against Humanity: UK Edition. From 17 years and above\n",
      "           \n",
      "\n",
      "                           29,00€\n",
      "                          \n",
      "\n",
      "\n",
      "\n",
      "\n",
      "               4,6\n",
      "              \n",
      "\n",
      "\n",
      "                4,6 su 5 stelle\n",
      "               \n",
      "\n",
      "\n",
      "\n",
      "\n",
      "\n",
      "\n",
      "\n",
      "\n",
      "\n",
      "             190 voti\n",
      "            \n"
     ]
    }
   ],
   "source": [
    "# connect to website\n",
    "\n",
    "url = 'https://www.amazon.it/Cards-Against-Humanity-Uk-Edition/dp/B00DTXYCOU/ref=sr_1_12?crid=2H4CGT6HBGLGT&keywords=carte+contro+l%27umanit%C3%A0&qid=1700041857&sprefix=carte+contro%2Caps%2C89&sr=8-12'\n",
    "\n",
    "headers = {\"User-Agent\": \"Mozilla/5.0 (Windows NT 10.0; Win64; x64; rv:109.0) Gecko/20100101 Firefox/119.0\"}\n",
    "\n",
    "page = requests.get(url, headers=headers)\n",
    "\n",
    "soup1 = BeautifulSoup(page.content, 'html.parser')\n",
    "\n",
    "soup2 = BeautifulSoup(soup1.prettify(), 'html.parser')\n",
    "\n",
    "title = soup2.find(id='productTitle').get_text()\n",
    "\n",
    "price = soup2.find(class_ = \"a-offscreen\").get_text()\n",
    "\n",
    "rating = soup2.find(id='acrPopover').get_text()\n",
    "\n",
    "n_votes = soup2.find(id='acrCustomerReviewText').get_text()\n",
    "\n",
    "print(title)\n",
    "print(price)\n",
    "print(rating)\n",
    "print(n_votes)"
   ]
  },
  {
   "cell_type": "markdown",
   "id": "c787dece",
   "metadata": {},
   "source": [
    "---\n",
    "## Cleaning"
   ]
  },
  {
   "cell_type": "code",
   "execution_count": 57,
   "id": "957034ae",
   "metadata": {},
   "outputs": [],
   "source": [
    "price = price.strip()[:5]\n",
    "price = price.replace(',', '.')"
   ]
  },
  {
   "cell_type": "code",
   "execution_count": 58,
   "id": "235cbb6a",
   "metadata": {},
   "outputs": [
    {
     "data": {
      "text/plain": [
       "'29.00'"
      ]
     },
     "execution_count": 58,
     "metadata": {},
     "output_type": "execute_result"
    }
   ],
   "source": [
    "price"
   ]
  },
  {
   "cell_type": "code",
   "execution_count": 59,
   "id": "546a24bc",
   "metadata": {},
   "outputs": [
    {
     "data": {
      "text/plain": [
       "'Cards Against Humanity: UK Edition. From 17 years and above'"
      ]
     },
     "execution_count": 59,
     "metadata": {},
     "output_type": "execute_result"
    }
   ],
   "source": [
    "title = title.strip()\n",
    "title"
   ]
  },
  {
   "cell_type": "code",
   "execution_count": 60,
   "id": "209b28b6",
   "metadata": {},
   "outputs": [
    {
     "data": {
      "text/plain": [
       "'4.6'"
      ]
     },
     "execution_count": 60,
     "metadata": {},
     "output_type": "execute_result"
    }
   ],
   "source": [
    "rating = rating.strip()[:3]\n",
    "rating = rating.replace(',', '.')\n",
    "rating"
   ]
  },
  {
   "cell_type": "code",
   "execution_count": 61,
   "id": "36127d46",
   "metadata": {},
   "outputs": [
    {
     "data": {
      "text/plain": [
       "'190'"
      ]
     },
     "execution_count": 61,
     "metadata": {},
     "output_type": "execute_result"
    }
   ],
   "source": [
    "n_votes = n_votes.strip()[:3]\n",
    "n_votes"
   ]
  },
  {
   "cell_type": "code",
   "execution_count": 62,
   "id": "f2a2cfb6",
   "metadata": {},
   "outputs": [
    {
     "name": "stdout",
     "output_type": "stream",
     "text": [
      "2023-11-15\n"
     ]
    }
   ],
   "source": [
    "import datetime\n",
    "\n",
    "today = datetime.date.today()\n",
    "\n",
    "print(today)"
   ]
  },
  {
   "cell_type": "markdown",
   "id": "db7ad50f",
   "metadata": {},
   "source": [
    "---\n",
    "## Creating a csv file"
   ]
  },
  {
   "cell_type": "code",
   "execution_count": 63,
   "id": "6fa35569",
   "metadata": {},
   "outputs": [],
   "source": [
    "import csv\n",
    "\n",
    "header = ['Title', 'Price', 'Rating', 'Num_Votes', 'Date']\n",
    "data = [title, price, rating, n_votes, today]\n",
    "\n",
    "with open('AWB_CAH_Project.csv', 'w', newline = '', encoding = 'UTF8') as f:\n",
    "    writer = csv.writer(f)\n",
    "    writer.writerow(header)\n",
    "    writer.writerow(data)"
   ]
  },
  {
   "cell_type": "markdown",
   "id": "b2d0a113",
   "metadata": {},
   "source": [
    "---\n",
    "## Getting some more useful data"
   ]
  },
  {
   "cell_type": "code",
   "execution_count": 64,
   "id": "9bf2323d",
   "metadata": {},
   "outputs": [
    {
     "data": {
      "text/html": [
       "<div>\n",
       "<style scoped>\n",
       "    .dataframe tbody tr th:only-of-type {\n",
       "        vertical-align: middle;\n",
       "    }\n",
       "\n",
       "    .dataframe tbody tr th {\n",
       "        vertical-align: top;\n",
       "    }\n",
       "\n",
       "    .dataframe thead th {\n",
       "        text-align: right;\n",
       "    }\n",
       "</style>\n",
       "<table border=\"1\" class=\"dataframe\">\n",
       "  <thead>\n",
       "    <tr style=\"text-align: right;\">\n",
       "      <th></th>\n",
       "      <th>Title</th>\n",
       "      <th>Price</th>\n",
       "      <th>Rating</th>\n",
       "      <th>Num_Votes</th>\n",
       "      <th>Date</th>\n",
       "    </tr>\n",
       "  </thead>\n",
       "  <tbody>\n",
       "    <tr>\n",
       "      <th>0</th>\n",
       "      <td>Cards Against Humanity: UK Edition. From 17 ye...</td>\n",
       "      <td>29.0</td>\n",
       "      <td>4.6</td>\n",
       "      <td>190</td>\n",
       "      <td>2023-11-15</td>\n",
       "    </tr>\n",
       "  </tbody>\n",
       "</table>\n",
       "</div>"
      ],
      "text/plain": [
       "                                               Title  Price  Rating  \\\n",
       "0  Cards Against Humanity: UK Edition. From 17 ye...   29.0     4.6   \n",
       "\n",
       "   Num_Votes        Date  \n",
       "0        190  2023-11-15  "
      ]
     },
     "execution_count": 64,
     "metadata": {},
     "output_type": "execute_result"
    }
   ],
   "source": [
    "import pandas as pd\n",
    "\n",
    "df = pd.read_csv(r\"C:\\Users\\Franci\\Alex The Analyst Python Tutorial\\AWB_CAH_Project.csv\")\n",
    "df"
   ]
  },
  {
   "cell_type": "code",
   "execution_count": null,
   "id": "b48a1fb9",
   "metadata": {},
   "outputs": [],
   "source": [
    "# now we are appending data to the csv\n",
    "\n",
    "with open('AWB_CAH_Project.csv', 'a+', newline = '', encoding = 'UTF8') as f:\n",
    "    writer = csv.writer(f)\n",
    "    writer.writerow(data)"
   ]
  },
  {
   "cell_type": "code",
   "execution_count": 65,
   "id": "5e9b2335",
   "metadata": {},
   "outputs": [],
   "source": [
    "def check_product():\n",
    "    url = 'https://www.amazon.it/Cards-Against-Humanity-Uk-Edition/dp/B00DTXYCOU/ref=sr_1_12?crid=2H4CGT6HBGLGT&keywords=carte+contro+l%27umanit%C3%A0&qid=1700041857&sprefix=carte+contro%2Caps%2C89&sr=8-12'\n",
    "\n",
    "    headers = {\"User-Agent\": \"Mozilla/5.0 (Windows NT 10.0; Win64; x64; rv:109.0) Gecko/20100101 Firefox/119.0\"}\n",
    "\n",
    "    page = requests.get(url, headers=headers)\n",
    "\n",
    "    soup1 = BeautifulSoup(page.content, 'html.parser')\n",
    "\n",
    "    soup2 = BeautifulSoup(soup1.prettify(), 'html.parser')\n",
    "\n",
    "    title = soup2.find(id='productTitle').get_text()\n",
    "\n",
    "    price = soup2.find(class_ = \"a-offscreen\").get_text()\n",
    "\n",
    "    rating = soup2.find(id='acrPopover').get_text()\n",
    "\n",
    "    n_votes = soup2.find(id='acrCustomerReviewText').get_text()\n",
    "    \n",
    "    price = price.strip()[:5]\n",
    "    price = price.replace(',', '.')\n",
    "    title = title.strip()\n",
    "    rating = rating.strip()[:3]\n",
    "    rating = rating.replace(',', '.')\n",
    "    n_votes = n_votes.strip()[:3]\n",
    "    \n",
    "    import datetime\n",
    "    today = datetime.date.today()\n",
    "    \n",
    "    import csv\n",
    "\n",
    "    header = ['Title', 'Price', 'Rating', 'Num_Votes', 'Date']\n",
    "    data = [title, price, rating, n_votes, today]\n",
    "    \n",
    "    with open('AWB_CAH_Project.csv', 'a+', newline = '', encoding = 'UTF8') as f:\n",
    "        writer = csv.writer(f)\n",
    "        writer.writerow(data)\n",
    "    "
   ]
  },
  {
   "cell_type": "code",
   "execution_count": null,
   "id": "486ab5ff",
   "metadata": {},
   "outputs": [],
   "source": [
    "while(True):\n",
    "    check_product()\n",
    "    time.sleep(86400)"
   ]
  }
 ],
 "metadata": {
  "kernelspec": {
   "display_name": "Python 3 (ipykernel)",
   "language": "python",
   "name": "python3"
  },
  "language_info": {
   "codemirror_mode": {
    "name": "ipython",
    "version": 3
   },
   "file_extension": ".py",
   "mimetype": "text/x-python",
   "name": "python",
   "nbconvert_exporter": "python",
   "pygments_lexer": "ipython3",
   "version": "3.11.5"
  }
 },
 "nbformat": 4,
 "nbformat_minor": 5
}
